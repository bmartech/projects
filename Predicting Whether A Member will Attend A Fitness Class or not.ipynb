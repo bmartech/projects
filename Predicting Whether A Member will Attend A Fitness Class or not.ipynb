{
 "cells": [
  {
   "cell_type": "markdown",
   "id": "1e20b471-43f1-4e12-afb1-aa7825d8cc69",
   "metadata": {},
   "source": [
    "# Predicting Whether A Member will Attend A Fitness Class or not\n",
    "\n",
    "### Background:\n",
    "GoalZone is a fitness club chain in Canada.\n",
    "GoalZone offers a range of fitness classes in two capacities - 25 and 15.\n",
    "Some classes are always fully booked. Fully booked classes often have a low attendance rate.\n",
    "GoalZone wants to increase the number of spaces available for classes.\n",
    "They want to do this by predicting whether the member will attend the class or not.\n",
    "If they can predict a member will not attend the class, they can make another space\n",
    "available.\n",
    "\n"
   ]
  },
  {
   "cell_type": "code",
   "execution_count": 1,
   "id": "b69950de-b59c-490e-8fba-a9bdb1bd693c",
   "metadata": {
    "executionCancelledAt": null,
    "executionTime": 3197,
    "lastExecutedAt": 1691711788032,
    "lastScheduledRunId": null,
    "lastSuccessfullyExecutedCode": "# importing the necessary libraries and modules\n\nimport pandas as pd \nimport numpy as np\nimport matplotlib.pyplot as plt\nimport seaborn as sns"
   },
   "outputs": [],
   "source": [
    "# importing libraries\n",
    "\n",
    "import pandas as pd \n",
    "import numpy as np\n",
    "import matplotlib.pyplot as plt\n",
    "import seaborn as sns"
   ]
  },
  {
   "cell_type": "code",
   "execution_count": 3,
   "id": "d55d907a-208f-4014-815b-b7f32709b128",
   "metadata": {
    "executionCancelledAt": null,
    "executionTime": 48,
    "lastExecutedAt": 1691711788081,
    "lastScheduledRunId": null,
    "lastSuccessfullyExecutedCode": "# reading the dataset\n\nfitness_df = pd.read_csv(\"fitness_class_2212.csv\")"
   },
   "outputs": [],
   "source": [
    "# loading the dataset\n",
    "\n",
    "fitness_df = pd.read_csv(r\"C:\\Users\\Martosoft\\Desktop\\DataSet\\Fitness\\fitness_class_2212.csv\")"
   ]
  },
  {
   "cell_type": "code",
   "execution_count": 4,
   "id": "c65cc175-9c84-4de1-94c5-4573064e7fd7",
   "metadata": {
    "executionCancelledAt": null,
    "executionTime": 53,
    "lastExecutedAt": 1691711788135,
    "lastScheduledRunId": null,
    "lastSuccessfullyExecutedCode": "# General overview of the dataset\n\nfitness_df.info()",
    "outputsMetadata": {
     "0": {
      "height": 317,
      "type": "stream"
     }
    }
   },
   "outputs": [
    {
     "name": "stdout",
     "output_type": "stream",
     "text": [
      "<class 'pandas.core.frame.DataFrame'>\n",
      "RangeIndex: 1500 entries, 0 to 1499\n",
      "Data columns (total 8 columns):\n",
      " #   Column            Non-Null Count  Dtype  \n",
      "---  ------            --------------  -----  \n",
      " 0   booking_id        1500 non-null   int64  \n",
      " 1   months_as_member  1500 non-null   int64  \n",
      " 2   weight            1480 non-null   float64\n",
      " 3   days_before       1500 non-null   object \n",
      " 4   day_of_week       1500 non-null   object \n",
      " 5   time              1500 non-null   object \n",
      " 6   category          1500 non-null   object \n",
      " 7   attended          1500 non-null   int64  \n",
      "dtypes: float64(1), int64(3), object(4)\n",
      "memory usage: 93.9+ KB\n"
     ]
    }
   ],
   "source": [
    "# General overview of the dataset\n",
    "\n",
    "fitness_df.info()"
   ]
  },
  {
   "cell_type": "code",
   "execution_count": 5,
   "id": "99b67689-1d8a-4778-b984-e5e6ef6e4620",
   "metadata": {
    "executionCancelledAt": null,
    "executionTime": 51,
    "lastExecutedAt": 1691711788186,
    "lastScheduledRunId": null,
    "lastSuccessfullyExecutedCode": "# running a quick descriptive check \n\nfitness_df.describe()",
    "outputsMetadata": {
     "0": {
      "height": 273,
      "type": "dataFrame"
     }
    }
   },
   "outputs": [
    {
     "data": {
      "text/html": [
       "<div>\n",
       "<style scoped>\n",
       "    .dataframe tbody tr th:only-of-type {\n",
       "        vertical-align: middle;\n",
       "    }\n",
       "\n",
       "    .dataframe tbody tr th {\n",
       "        vertical-align: top;\n",
       "    }\n",
       "\n",
       "    .dataframe thead th {\n",
       "        text-align: right;\n",
       "    }\n",
       "</style>\n",
       "<table border=\"1\" class=\"dataframe\">\n",
       "  <thead>\n",
       "    <tr style=\"text-align: right;\">\n",
       "      <th></th>\n",
       "      <th>booking_id</th>\n",
       "      <th>months_as_member</th>\n",
       "      <th>weight</th>\n",
       "      <th>attended</th>\n",
       "    </tr>\n",
       "  </thead>\n",
       "  <tbody>\n",
       "    <tr>\n",
       "      <th>count</th>\n",
       "      <td>1500.000000</td>\n",
       "      <td>1500.000000</td>\n",
       "      <td>1480.000000</td>\n",
       "      <td>1500.000000</td>\n",
       "    </tr>\n",
       "    <tr>\n",
       "      <th>mean</th>\n",
       "      <td>750.500000</td>\n",
       "      <td>15.628667</td>\n",
       "      <td>82.610378</td>\n",
       "      <td>0.302667</td>\n",
       "    </tr>\n",
       "    <tr>\n",
       "      <th>std</th>\n",
       "      <td>433.157015</td>\n",
       "      <td>12.926543</td>\n",
       "      <td>12.765859</td>\n",
       "      <td>0.459565</td>\n",
       "    </tr>\n",
       "    <tr>\n",
       "      <th>min</th>\n",
       "      <td>1.000000</td>\n",
       "      <td>1.000000</td>\n",
       "      <td>55.410000</td>\n",
       "      <td>0.000000</td>\n",
       "    </tr>\n",
       "    <tr>\n",
       "      <th>25%</th>\n",
       "      <td>375.750000</td>\n",
       "      <td>8.000000</td>\n",
       "      <td>73.490000</td>\n",
       "      <td>0.000000</td>\n",
       "    </tr>\n",
       "    <tr>\n",
       "      <th>50%</th>\n",
       "      <td>750.500000</td>\n",
       "      <td>12.000000</td>\n",
       "      <td>80.760000</td>\n",
       "      <td>0.000000</td>\n",
       "    </tr>\n",
       "    <tr>\n",
       "      <th>75%</th>\n",
       "      <td>1125.250000</td>\n",
       "      <td>19.000000</td>\n",
       "      <td>89.520000</td>\n",
       "      <td>1.000000</td>\n",
       "    </tr>\n",
       "    <tr>\n",
       "      <th>max</th>\n",
       "      <td>1500.000000</td>\n",
       "      <td>148.000000</td>\n",
       "      <td>170.520000</td>\n",
       "      <td>1.000000</td>\n",
       "    </tr>\n",
       "  </tbody>\n",
       "</table>\n",
       "</div>"
      ],
      "text/plain": [
       "        booking_id  months_as_member       weight     attended\n",
       "count  1500.000000       1500.000000  1480.000000  1500.000000\n",
       "mean    750.500000         15.628667    82.610378     0.302667\n",
       "std     433.157015         12.926543    12.765859     0.459565\n",
       "min       1.000000          1.000000    55.410000     0.000000\n",
       "25%     375.750000          8.000000    73.490000     0.000000\n",
       "50%     750.500000         12.000000    80.760000     0.000000\n",
       "75%    1125.250000         19.000000    89.520000     1.000000\n",
       "max    1500.000000        148.000000   170.520000     1.000000"
      ]
     },
     "execution_count": 5,
     "metadata": {},
     "output_type": "execute_result"
    }
   ],
   "source": [
    "# running a quick descriptive check \n",
    "\n",
    "fitness_df.describe()"
   ]
  },
  {
   "cell_type": "code",
   "execution_count": 6,
   "id": "c14db6c6-a5cf-4481-ab3c-33c8769b8dc2",
   "metadata": {
    "executionCancelledAt": null,
    "executionTime": 48,
    "lastExecutedAt": 1691711788234,
    "lastScheduledRunId": null,
    "lastSuccessfullyExecutedCode": "# checking for missing data\n\nfitness_df.isna().sum()"
   },
   "outputs": [
    {
     "data": {
      "text/plain": [
       "booking_id           0\n",
       "months_as_member     0\n",
       "weight              20\n",
       "days_before          0\n",
       "day_of_week          0\n",
       "time                 0\n",
       "category             0\n",
       "attended             0\n",
       "dtype: int64"
      ]
     },
     "execution_count": 6,
     "metadata": {},
     "output_type": "execute_result"
    }
   ],
   "source": [
    "# checking for missing data\n",
    "\n",
    "fitness_df.isna().sum()"
   ]
  },
  {
   "cell_type": "code",
   "execution_count": 7,
   "id": "d396261a-05eb-46c8-8010-c663d9562c2b",
   "metadata": {
    "executionCancelledAt": null,
    "executionTime": 51,
    "lastExecutedAt": 1691711788285,
    "lastScheduledRunId": null,
    "lastSuccessfullyExecutedCode": "mean_weight= np.mean(fitness_df[\"weight\"].dropna())\nmean_weight"
   },
   "outputs": [
    {
     "data": {
      "text/plain": [
       "82.61037837837839"
      ]
     },
     "execution_count": 7,
     "metadata": {},
     "output_type": "execute_result"
    }
   ],
   "source": [
    "# obtaining the mean weight \n",
    "\n",
    "mean_weight= np.mean(fitness_df[\"weight\"].dropna())\n",
    "mean_weight"
   ]
  },
  {
   "cell_type": "code",
   "execution_count": 8,
   "id": "ff24b9e6-6c3e-4060-9cb6-474a5f564958",
   "metadata": {
    "executionCancelledAt": null,
    "executionTime": 52,
    "lastExecutedAt": 1691711788337,
    "lastScheduledRunId": null,
    "lastSuccessfullyExecutedCode": "# cleaning the \"weight\" column by replacing the missing value with the average mean weight\n\nfitness_df[\"weight\"] = fitness_df[\"weight\"].fillna(mean_weight)\n\nfitness_df[\"weight\"].dtypes"
   },
   "outputs": [
    {
     "data": {
      "text/plain": [
       "dtype('float64')"
      ]
     },
     "execution_count": 8,
     "metadata": {},
     "output_type": "execute_result"
    }
   ],
   "source": [
    "# cleaning the \"weight\" column by replacing the missing value with the average mean weight\n",
    "\n",
    "fitness_df[\"weight\"] = fitness_df[\"weight\"].fillna(mean_weight)\n",
    "\n",
    "fitness_df[\"weight\"].dtypes"
   ]
  },
  {
   "cell_type": "code",
   "execution_count": 9,
   "id": "67be4193-d4ba-44ab-95ac-9a75f9bdc8bd",
   "metadata": {
    "executionCancelledAt": null,
    "executionTime": 51,
    "lastExecutedAt": 1691711788389,
    "lastScheduledRunId": null,
    "lastSuccessfullyExecutedCode": "# cleaning the \"category\" column\n\nfitness_df[\"category\"] = fitness_df[\"category\"].str.replace(\"-\", \"unknown\")\n\nfitness_df[\"category\"] = fitness_df[\"category\"].astype(\"category\")"
   },
   "outputs": [],
   "source": [
    "# cleaning the \"category\" column\n",
    "fitness_df[\"category\"] = fitness_df[\"category\"].str.replace(\"-\", \"unknown\")\n",
    "\n",
    "# converting the data type to \"category\"\n",
    "fitness_df[\"category\"] = fitness_df[\"category\"].astype(\"category\")"
   ]
  },
  {
   "cell_type": "code",
   "execution_count": 10,
   "id": "392bc782-338b-4725-9e40-41001bd2493f",
   "metadata": {
    "executionCancelledAt": null,
    "executionTime": 52,
    "lastExecutedAt": 1691711788442,
    "lastScheduledRunId": null,
    "lastSuccessfullyExecutedCode": "# checking for missing value again to validate our cleaning\n\nfitness_df.isna().sum()"
   },
   "outputs": [
    {
     "data": {
      "text/plain": [
       "booking_id          0\n",
       "months_as_member    0\n",
       "weight              0\n",
       "days_before         0\n",
       "day_of_week         0\n",
       "time                0\n",
       "category            0\n",
       "attended            0\n",
       "dtype: int64"
      ]
     },
     "execution_count": 10,
     "metadata": {},
     "output_type": "execute_result"
    }
   ],
   "source": [
    "# checking for missing value again to validate our cleaning\n",
    "\n",
    "fitness_df.isna().sum()"
   ]
  },
  {
   "cell_type": "code",
   "execution_count": 11,
   "id": "b2d227b8-6470-4292-a75c-67c56a136aa8",
   "metadata": {
    "executionCancelledAt": null,
    "executionTime": 55,
    "lastExecutedAt": 1691711788497,
    "lastScheduledRunId": null,
    "lastSuccessfullyExecutedCode": "# cleaning the \"day_of_week\" column\n\nfitness_df[\"day_of_week\"] = fitness_df[\"day_of_week\"].str.strip()\nfitness_df[\"day_of_week\"] = fitness_df[\"day_of_week\"].str.strip(\".\")\nfitness_df[\"day_of_week\"] = fitness_df[\"day_of_week\"].str.replace(\"Monday\", \"Mon\")\nfitness_df[\"day_of_week\"] = fitness_df[\"day_of_week\"].str.replace(\"Wednesday\", \"Wed\")\nfitness_df[\"day_of_week\"] = fitness_df[\"day_of_week\"].astype(\"category\")\n\nname = [\"Mon\", \"Tue\", \"Wed\", \"Thu\", \"Fri\", \"Sat\",\"Sun\"]\nfitness_df[\"day_of_week\"] = fitness_df[\"day_of_week\"].cat.reorder_categories(name, ordered= True)"
   },
   "outputs": [],
   "source": [
    "# cleaning the \"day_of_week\" column\n",
    "\n",
    "fitness_df[\"day_of_week\"] = fitness_df[\"day_of_week\"].str.strip()\n",
    "fitness_df[\"day_of_week\"] = fitness_df[\"day_of_week\"].str.strip(\".\")\n",
    "fitness_df[\"day_of_week\"] = fitness_df[\"day_of_week\"].str.replace(\"Monday\", \"Mon\")\n",
    "fitness_df[\"day_of_week\"] = fitness_df[\"day_of_week\"].str.replace(\"Wednesday\", \"Wed\")\n",
    "fitness_df[\"day_of_week\"] = fitness_df[\"day_of_week\"].astype(\"category\")\n",
    "\n",
    "name = [\"Mon\", \"Tue\", \"Wed\", \"Thu\", \"Fri\", \"Sat\",\"Sun\"]\n",
    "fitness_df[\"day_of_week\"] = fitness_df[\"day_of_week\"].cat.reorder_categories(name, ordered= True)"
   ]
  },
  {
   "cell_type": "code",
   "execution_count": 12,
   "id": "8baaa5aa-42ce-46eb-a253-397be3a2f1d5",
   "metadata": {
    "executionCancelledAt": null,
    "executionTime": 51,
    "lastExecutedAt": 1691711788549,
    "lastScheduledRunId": null,
    "lastSuccessfullyExecutedCode": "# cleaning the \"attended\" column\n\nfitness_df[\"attended\"] = fitness_df[\"attended\"].astype(\"category\")\nfitness_df[\"attended\"] = fitness_df[\"attended\"].cat.reorder_categories([0, 1], ordered= False)"
   },
   "outputs": [],
   "source": [
    "# cleaning the \"attended\" column\n",
    "\n",
    "fitness_df[\"attended\"] = fitness_df[\"attended\"].astype(\"category\")\n",
    "fitness_df[\"attended\"] = fitness_df[\"attended\"].cat.reorder_categories([0, 1], ordered= False)"
   ]
  },
  {
   "cell_type": "code",
   "execution_count": 13,
   "id": "9f340bdc-3220-442e-b35f-c41d77c2d09c",
   "metadata": {
    "executionCancelledAt": null,
    "executionTime": 51,
    "lastExecutedAt": 1691711788601,
    "lastScheduledRunId": null,
    "lastSuccessfullyExecutedCode": "# cleaning the \"time\" column\n\nfitness_df[\"time\"] = fitness_df[\"time\"].astype(\"category\")\nname = [\"AM\", \"PM\"]\nfitness_df[\"time\"] = fitness_df[\"time\"].cat.reorder_categories(name, ordered= True)"
   },
   "outputs": [],
   "source": [
    "# cleaning the \"time\" column\n",
    "\n",
    "fitness_df[\"time\"] = fitness_df[\"time\"].astype(\"category\")\n",
    "name = [\"AM\", \"PM\"]\n",
    "fitness_df[\"time\"] = fitness_df[\"time\"].cat.reorder_categories(name, ordered= True)"
   ]
  },
  {
   "cell_type": "code",
   "execution_count": 14,
   "id": "8785eb2b-143b-4a28-88fa-e70756d5db6e",
   "metadata": {
    "executionCancelledAt": null,
    "executionTime": 51,
    "lastExecutedAt": 1691711788653,
    "lastScheduledRunId": null,
    "lastSuccessfullyExecutedCode": "# cleaning the \"days_before\" column\n\nfitness_df[\"days_before\"] = fitness_df[\"days_before\"].str.strip()\nfitness_df[\"days_before\"] = fitness_df[\"days_before\"].str.strip(\"days\")\n\nfitness_df[\"days_before\"] = fitness_df[\"days_before\"].astype(\"int\")"
   },
   "outputs": [],
   "source": [
    "# cleaning the \"days_before\" column\n",
    "\n",
    "fitness_df[\"days_before\"] = fitness_df[\"days_before\"].str.strip()\n",
    "fitness_df[\"days_before\"] = fitness_df[\"days_before\"].str.strip(\"days\")\n",
    "\n",
    "fitness_df[\"days_before\"] = fitness_df[\"days_before\"].astype(\"int\")"
   ]
  },
  {
   "cell_type": "code",
   "execution_count": 15,
   "id": "fbcdf8bd-830a-47ea-b799-c9e1e62fdd00",
   "metadata": {
    "executionCancelledAt": null,
    "executionTime": 47,
    "lastExecutedAt": 1691711788701,
    "lastScheduledRunId": null,
    "lastSuccessfullyExecutedCode": "# running a quick check on the dataset again to verify if the data is cleaned and set in the right data-type\n\nfitness_df.info()",
    "outputsMetadata": {
     "0": {
      "height": 317,
      "type": "stream"
     }
    }
   },
   "outputs": [
    {
     "name": "stdout",
     "output_type": "stream",
     "text": [
      "<class 'pandas.core.frame.DataFrame'>\n",
      "RangeIndex: 1500 entries, 0 to 1499\n",
      "Data columns (total 8 columns):\n",
      " #   Column            Non-Null Count  Dtype   \n",
      "---  ------            --------------  -----   \n",
      " 0   booking_id        1500 non-null   int64   \n",
      " 1   months_as_member  1500 non-null   int64   \n",
      " 2   weight            1500 non-null   float64 \n",
      " 3   days_before       1500 non-null   int32   \n",
      " 4   day_of_week       1500 non-null   category\n",
      " 5   time              1500 non-null   category\n",
      " 6   category          1500 non-null   category\n",
      " 7   attended          1500 non-null   category\n",
      "dtypes: category(4), float64(1), int32(1), int64(2)\n",
      "memory usage: 47.8 KB\n"
     ]
    }
   ],
   "source": [
    "# running a quick check on the dataset again to verify if the data is cleaned and set in the right data-type\n",
    "\n",
    "fitness_df.info()"
   ]
  },
  {
   "cell_type": "markdown",
   "id": "836353de-534f-460d-b9ce-e92cc3646c65",
   "metadata": {},
   "source": [
    "\n",
    "The dataset contains **1500** rows and **8** columns with missing values presented in the “weight” column only before cleaning. I have validated all the columns against the criteria in the dataset table:\n",
    "- Booking_id: Same as description without missing values.\n",
    "- \tMonths_as_member: Same as description without missing values.\n",
    "- \tweight: it contains 20 missing values, so I replaced the missing values with the average mean weight using the filna method  and passing the calculated average mean weight into the it.\n",
    "- \tDays_before: Same as description without missing values. I stripped \"days\" from the values in the column and then convert it itno integer data-type.\n",
    "- \tDay_of_week: Same as description without missing values. i stripped the empty spaces, and rename some of the categories and then convert the column to categorical data-type. I also reordered the category from Mon-Sun.\n",
    "- \ttime: Same as description without missing values.\n",
    "- \tcategory: Same as description without missing values; but one of the categories was presented as “-”, so I replaced it with \"unknown\" using the str.replace method; and then converted the column to categorical data-type.\n",
    "- \tattended: Same as description without missing values. i converted data-type to category with no respective order.\n",
    "After the data validation, the dataset contains 1500 rows and 8 columns with no missing data and each column is set to the correct data-types."
   ]
  },
  {
   "cell_type": "code",
   "execution_count": 16,
   "id": "00608d2f-baba-46c4-a6d0-1e6e74ca09fb",
   "metadata": {
    "executionCancelledAt": null,
    "executionTime": 293,
    "lastExecutedAt": 1691711788994,
    "lastScheduledRunId": null,
    "lastSuccessfullyExecutedCode": "# Creating a visualization that shows how many bookings attended the class. \n\nsns.countplot(data= fitness_df, x= \"category\")\nplt.title(\"count of the category\")\nplt.show()"
   },
   "outputs": [
    {
     "data": {
      "image/png": "[encoded data removed]",
      "text/plain": [
       "<Figure size 640x480 with 1 Axes>"
      ]
     },
     "metadata": {},
     "output_type": "display_data"
    }
   ],
   "source": [
    "# Creating a visualization that shows the number bookings per class. \n",
    "\n",
    "sns.countplot(data= fitness_df, x= \"category\")\n",
    "plt.title(\"count of the category\")\n",
    "plt.show()"
   ]
  },
  {
   "cell_type": "markdown",
   "id": "0944d9ab-ff5a-4dd3-bd52-e27b91d68581",
   "metadata": {},
   "source": [
    "\n",
    "From count plot above, the “HIIT” category have the highest number of attendances about 667 attendees, then follows by “Cycling” category with 376 attendees,and “Strength” category with 233 attendees, and so on. Hence, the observations are imbalance across categories.\n"
   ]
  },
  {
   "cell_type": "code",
   "execution_count": 18,
   "id": "e9b28c5a-83fc-430f-bc0d-f36c7a96c6d3",
   "metadata": {
    "executionCancelledAt": null,
    "executionTime": 309,
    "lastExecutedAt": 1691711789303,
    "lastScheduledRunId": null,
    "lastSuccessfullyExecutedCode": "# Describe the distribution of the number of months as a member\n\nsns.histplot(data= fitness_df, x = \"months_as_member\")\nplt.title(\"Distribution of the number of attendees and months as a member of the fitness club\")\nplt.show()"
   },
   "outputs": [
    {
     "data": {
      "image/png": "[encoded data removed]",
      "text/plain": [
       "<Figure size 640x480 with 1 Axes>"
      ]
     },
     "metadata": {},
     "output_type": "display_data"
    }
   ],
   "source": [
    "# The distribution of the number of months a member have spent from the day of registration till the last recorded date\n",
    "\n",
    "sns.histplot(data= fitness_df, x = \"months_as_member\")\n",
    "plt.title(\"Distribution of the number of attendees and months as a member of the fitness club\")\n",
    "plt.show()"
   ]
  },
  {
   "cell_type": "markdown",
   "id": "c509bc83-41a5-42cf-a865-08dcf8229a16",
   "metadata": {},
   "source": [
    "From the histogram above, we can see that the distribution is right-skewed. Hence, the distribution of the number of months as a member follows an exponential distribution."
   ]
  },
  {
   "cell_type": "code",
   "execution_count": 19,
   "id": "fdaccfd1-67f1-4b14-95fa-7915857b245c",
   "metadata": {
    "executionCancelledAt": null,
    "executionTime": 521,
    "lastExecutedAt": 1691711789824,
    "lastScheduledRunId": null,
    "lastSuccessfullyExecutedCode": "sns.histplot(data= fitness_df, x= \"months_as_member\", hue= \"attended\", binwidth= 1)\nplt.title(\"relationship between attendance and number of months as a member\")\nplt.show()"
   },
   "outputs": [
    {
     "data": {
      "image/png": "[encoded data removed]",
      "text/plain": [
       "<Figure size 640x480 with 1 Axes>"
      ]
     },
     "metadata": {},
     "output_type": "display_data"
    }
   ],
   "source": [
    "sns.histplot(data= fitness_df, x= \"months_as_member\", hue= \"attended\", binwidth= 1)\n",
    "plt.title(\"relationship between attendance and number of months as a member\")\n",
    "plt.show()"
   ]
  },
  {
   "cell_type": "markdown",
   "id": "17cca003-71ad-4d7e-989b-09aa51ae0aba",
   "metadata": {},
   "source": [
    "From the histogram above, the binwidth is equal to one month of membership of the fitness class club. From the histogram, the registered members for the fitness class who have been in the club for less than three months was 49 but did not attend the fitness class. The first category of persons that attended the class was those that have been a member of the club for over four months."
   ]
  },
  {
   "cell_type": "markdown",
   "id": "66e07a44-f276-4516-87ce-e460d3f1a33a",
   "metadata": {},
   "source": [
    "\n",
    "Evaluating the overall dataset, we have four categorical columns; and the observation of the attended column is a binary observation. Since we are interested in that column, we can deduce that the problem is a binary classification problem, with 1 for members that attended the fitness class, and 0 for those that did not attend the fitness class. Therefore, the type of machine learning problem is a classification problem under supervised machine learning. Hence, we can make prediction whether member(s) will attend the fitness class or not."
   ]
  },
  {
   "cell_type": "markdown",
   "id": "8b20fa2e-da87-4cf4-9591-157a0837891e",
   "metadata": {},
   "source": [
    "Below, I fitted a k-Nearest Neighbors classifier model to predict whether member(s) will attend the fitness class if given that such member(s) have been a member of the club for X month(s), using 10 neighbors. The fitted KNN model have an accuracy performance rate of 75.56%."
   ]
  },
  {
   "cell_type": "markdown",
   "id": "b0092523",
   "metadata": {},
   "source": [
    "## Developing a predictive model"
   ]
  },
  {
   "cell_type": "code",
   "execution_count": 43,
   "id": "76b4446c-9c17-4aa7-8119-8d33c51a6593",
   "metadata": {
    "executionCancelledAt": null,
    "executionTime": 73,
    "lastExecutedAt": 1691711789898,
    "lastScheduledRunId": null,
    "lastSuccessfullyExecutedCode": "# Importing the needed modules and models\n\nfrom sklearn.neighbors import KNeighborsClassifier as KNN\nfrom sklearn.linear_model import LogisticRegression\nfrom sklearn.model_selection import train_test_split\nfrom sklearn.metrics import roc_auc_score\nfrom sklearn.metrics import confusion_matrix, classification_report\n\n# fetching the data from the dataset\n\nX= fitness_df[[\"months_as_member\"]].values\ny= fitness_df[\"attended\"].values\n"
   },
   "outputs": [],
   "source": [
    "# Importing the needed modules and models\n",
    "\n",
    "from sklearn.neighbors import KNeighborsClassifier as KNN\n",
    "from sklearn.linear_model import LogisticRegression\n",
    "from sklearn.model_selection import train_test_split\n",
    "from sklearn.metrics import roc_auc_score\n",
    "from sklearn.metrics import confusion_matrix, classification_report, accuracy_score\n",
    "\n",
    "# fetching the data from the dataset\n",
    "\n",
    "X= fitness_df[[\"months_as_member\"].values\n",
    "y= fitness_df[\"attended\"].values\n"
   ]
  },
  {
   "cell_type": "markdown",
   "id": "8cb86c64",
   "metadata": {},
   "source": [
    "### Fitting a K-Nearest Neighbors(KNN) model"
   ]
  },
  {
   "cell_type": "code",
   "execution_count": 44,
   "id": "1cdd05e3-34aa-4457-8292-9491b75183fd",
   "metadata": {
    "executionCancelledAt": null,
    "executionTime": 51,
    "lastExecutedAt": 1691711789950,
    "lastScheduledRunId": null,
    "lastSuccessfullyExecutedCode": "# instantiating the KNN model\nknn = KNN(n_neighbors = 10)\n\n# fitting the model\nknn.fit(X, y)\n\n# using a new data to test the model\nX_new = np.array([[11],[12],[21],[20]])\nX_new.reshape((-1,1))\n\n# using the model to make prediction\ny_pred = knn.predict(X_new)\n\nprint(\"Predictions: {}\".format(y_pred))",
    "outputsMetadata": {
     "0": {
      "height": 37,
      "type": "stream"
     }
    }
   },
   "outputs": [
    {
     "name": "stdout",
     "output_type": "stream",
     "text": [
      "Predictions: [0 0 0 1]\n"
     ]
    }
   ],
   "source": [
    "# instantiating the KNN model\n",
    "knn = KNN(n_neighbors = 5)\n",
    "\n",
    "# fitting the model\n",
    "knn.fit(X, y)\n",
    "\n",
    "# using a new data to test the model\n",
    "X_new = np.array([[11],[12],[21],[20]])\n",
    "X_new.reshape((-1,1))\n",
    "\n",
    "# using the model to make prediction\n",
    "y_pred = knn.predict(X_new)\n",
    "\n",
    "print(\"Predictions: {}\".format(y_pred))"
   ]
  },
  {
   "cell_type": "code",
   "execution_count": 46,
   "id": "e4bdb632-90d2-4330-b03c-a7435e9a991a",
   "metadata": {
    "executionCancelledAt": null,
    "executionTime": 48,
    "lastExecutedAt": 1691711789998,
    "lastScheduledRunId": null,
    "lastSuccessfullyExecutedCode": "# measuring the model performance\n\n# splitting data into a training set and a test set\nX_train, X_test, y_train, y_test = train_test_split(X, y,test_size = 0.3, random_state = 20, stratify = y)\n\nknn = KNN(n_neighbors = 10)\n\nknn.fit(X_train, y_train)\n\nscore = knn.score(X_test, y_test)\n\nprint(score)",
    "outputsMetadata": {
     "0": {
      "height": 37,
      "type": "stream"
     }
    }
   },
   "outputs": [
    {
     "name": "stdout",
     "output_type": "stream",
     "text": [
      "0.7555555555555555\n"
     ]
    }
   ],
   "source": [
    "# measuring the model performance\n",
    "\n",
    "# splitting data into a training set and a test set\n",
    "X_train, X_test, y_train, y_test = train_test_split(X, y,test_size = 0.3, random_state = 20, stratify = y)\n",
    "\n",
    "knn = KNN(n_neighbors = 10)\n",
    "\n",
    "knn.fit(X_train, y_train)\n",
    "\n",
    "score = knn.score(X_test, y_test)\n",
    "\n",
    "print(score)\n"
   ]
  },
  {
   "cell_type": "markdown",
   "id": "c5ad5fdf",
   "metadata": {},
   "source": [
    "Here our KNN model have a score of 0.7711 which implies that, it has a 77.1% capability of making correct prediction; and this value is fair enough."
   ]
  },
  {
   "cell_type": "markdown",
   "id": "8cfdd137",
   "metadata": {},
   "source": [
    "### Checking if Logistic regression model we have a better fit"
   ]
  },
  {
   "cell_type": "code",
   "execution_count": 47,
   "id": "3d5953c8-9f51-426c-a597-b41bd742e4d1",
   "metadata": {
    "executionCancelledAt": null,
    "executionTime": 51,
    "lastExecutedAt": 1691711790049,
    "lastScheduledRunId": null,
    "lastSuccessfullyExecutedCode": "# import the logistic regression model from linear_model in scikit-learn\nfrom sklearn.linear_model import LogisticRegression\n\n#instantiating the model\nlogreg = LogisticRegression()\n\n# splitting data into a training set and a test set\nX_train, X_test, y_train, y_test = train_test_split(X, y,test_size = 0.3, random_state = 20)\n\nlogreg.fit(X_train, y_train)\ny_pred_logreg = logreg.predict(X_test)"
   },
   "outputs": [],
   "source": [
    "# import the logistic regression model from linear_model in scikit-learn\n",
    "from sklearn.linear_model import LogisticRegression\n",
    "\n",
    "#instantiating the model\n",
    "logreg = LogisticRegression()\n",
    "\n",
    "# splitting data into a training set and a test set\n",
    "X_train, X_test, y_train, y_test = train_test_split(X, y,test_size = 0.3, random_state = 20)\n",
    "\n",
    "logreg.fit(X_train, y_train)\n",
    "y_pred_logreg = logreg.predict(X_test)"
   ]
  },
  {
   "cell_type": "code",
   "execution_count": 48,
   "id": "376ea035-56a2-4b9d-ab4b-cf96958d40a8",
   "metadata": {
    "executionCancelledAt": null,
    "executionTime": 48,
    "lastExecutedAt": 1691711790098,
    "lastScheduledRunId": null,
    "lastSuccessfullyExecutedCode": "# predicting the probabilities of each instance of attending or not\ny_pred_probs = logreg.predict_proba(X_test)[:,1]\n\nprint(y_pred_probs[:10])",
    "outputsMetadata": {
     "0": {
      "height": 97,
      "type": "stream"
     }
    }
   },
   "outputs": [
    {
     "name": "stdout",
     "output_type": "stream",
     "text": [
      "[0.0961753  0.21881808 0.36664297 0.36664297 0.48433063 0.19884094\n",
      " 0.10721823 0.14722734 0.54469931 0.10721823]\n"
     ]
    }
   ],
   "source": [
    "# predicting the probabilities of each instance of attending or not\n",
    "y_pred_probs = logreg.predict_proba(X_test)[:,1]\n",
    "\n",
    "print(y_pred_probs[:10])"
   ]
  },
  {
   "cell_type": "markdown",
   "id": "3876e317",
   "metadata": {},
   "source": [
    "From the results above, our KNN model predict that, there is approximately 10% probability that the first member examined will attend the fitness class."
   ]
  },
  {
   "cell_type": "markdown",
   "id": "5cec4b2d-86fd-4ce3-9f9c-e9ab2ec0e436",
   "metadata": {},
   "source": [
    "### Reasons for choosing the KNN and Logistic regression model:\n",
    "1. The problem is a binary classification problem.\n",
    "2. Both model is capable of predicting binary outcomes to a higher accuracy in classification problem.*"
   ]
  },
  {
   "cell_type": "code",
   "execution_count": 25,
   "id": "246f2368-09ae-4cac-bdb5-7daacb0b2faf",
   "metadata": {
    "executionCancelledAt": null,
    "executionTime": 52,
    "lastExecutedAt": 1691711790150,
    "lastScheduledRunId": null,
    "lastSuccessfullyExecutedCode": "from sklearn.metrics import confusion_matrix, classification_report\n\nknn = KNN(n_neighbors = 10)\nX_train, X_test, y_train, y_test = train_test_split(X, y,test_size = 0.3, random_state = 20)\n\nknn.fit(X_train, y_train)\ny_pred = knn.predict(X_test)\n\nprint(confusion_matrix(y_test, y_pred))\n ",
    "outputsMetadata": {
     "0": {
      "height": 57,
      "type": "stream"
     }
    }
   },
   "outputs": [
    {
     "name": "stdout",
     "output_type": "stream",
     "text": [
      "[[286  21]\n",
      " [ 83  60]]\n"
     ]
    }
   ],
   "source": [
    "from sklearn.metrics import confusion_matrix, classification_report\n",
    "\n",
    "knn = KNN(n_neighbors = 10)\n",
    "X_train, X_test, y_train, y_test = train_test_split(X, y,test_size = 0.3, random_state = 20)\n",
    "\n",
    "knn.fit(X_train, y_train)\n",
    "y_pred = knn.predict(X_test)\n",
    "\n",
    "print(confusion_matrix(y_test, y_pred))\n",
    " "
   ]
  },
  {
   "cell_type": "code",
   "execution_count": 26,
   "id": "9d1286cd-9019-4a60-9fb6-63341f126249",
   "metadata": {
    "executionCancelledAt": null,
    "executionTime": 52,
    "lastExecutedAt": 1691711790202,
    "lastScheduledRunId": null,
    "lastSuccessfullyExecutedCode": "# classification report for the KNN model\n\nprint(classification_report(y_test, y_pred))",
    "outputsMetadata": {
     "0": {
      "height": 317,
      "type": "stream"
     }
    },
    "scrolled": true
   },
   "outputs": [
    {
     "name": "stdout",
     "output_type": "stream",
     "text": [
      "              precision    recall  f1-score   support\n",
      "\n",
      "           0       0.78      0.93      0.85       307\n",
      "           1       0.74      0.42      0.54       143\n",
      "\n",
      "    accuracy                           0.77       450\n",
      "   macro avg       0.76      0.68      0.69       450\n",
      "weighted avg       0.76      0.77      0.75       450\n",
      "\n"
     ]
    }
   ],
   "source": [
    "# classification report for the KNN model\n",
    "\n",
    "print(classification_report(y_test, y_pred))"
   ]
  },
  {
   "cell_type": "code",
   "execution_count": 27,
   "id": "aab34cd1-3f90-4567-92c4-ca8a2f8ccc56",
   "metadata": {
    "executionCancelledAt": null,
    "executionTime": 52,
    "lastExecutedAt": 1691711790254,
    "lastScheduledRunId": null,
    "lastSuccessfullyExecutedCode": "# the AUC score for the KNN model\n\nprint(roc_auc_score(y_test, y_pred))",
    "outputsMetadata": {
     "0": {
      "height": 37,
      "type": "stream"
     }
    }
   },
   "outputs": [
    {
     "name": "stdout",
     "output_type": "stream",
     "text": [
      "0.6755882553928156\n"
     ]
    }
   ],
   "source": [
    "# the AUC score for the KNN model\n",
    "\n",
    "print(roc_auc_score(y_test, y_pred))"
   ]
  },
  {
   "cell_type": "code",
   "execution_count": 28,
   "id": "be1f0ba9-3266-4f69-bf4f-aa9c1b4e6344",
   "metadata": {
    "executionCancelledAt": null,
    "executionTime": 51,
    "lastExecutedAt": 1691711790305,
    "lastScheduledRunId": null,
    "lastSuccessfullyExecutedCode": "#instantiating the model\nlogreg = LogisticRegression()\n\n# splitting data into a training set and a test set\nX_train, X_test, y_train, y_test = train_test_split(X, y,test_size = 0.3, random_state = 20)\n\nlogreg.fit(X_train, y_train)\ny_pred_logreg = logreg.predict(X_test)\n\nprint(confusion_matrix(y_test, y_pred_logreg))",
    "outputsMetadata": {
     "0": {
      "height": 57,
      "type": "stream"
     }
    }
   },
   "outputs": [
    {
     "name": "stdout",
     "output_type": "stream",
     "text": [
      "[[297  10]\n",
      " [ 91  52]]\n"
     ]
    }
   ],
   "source": [
    "#instantiating the model\n",
    "logreg = LogisticRegression()\n",
    "\n",
    "# splitting data into a training set and a test set\n",
    "X_train, X_test, y_train, y_test = train_test_split(X, y,test_size = 0.3, random_state = 20)\n",
    "\n",
    "logreg.fit(X_train, y_train)\n",
    "y_pred_logreg = logreg.predict(X_test)\n",
    "\n",
    "print(confusion_matrix(y_test, y_pred_logreg))"
   ]
  },
  {
   "cell_type": "code",
   "execution_count": 29,
   "id": "a176d87e-9212-44ff-bc7e-14c6ba41dc03",
   "metadata": {
    "executionCancelledAt": null,
    "executionTime": 47,
    "lastExecutedAt": 1691711790353,
    "lastScheduledRunId": null,
    "lastSuccessfullyExecutedCode": "print(classification_report(y_test, y_pred_logreg))",
    "outputsMetadata": {
     "0": {
      "height": 317,
      "type": "stream"
     }
    }
   },
   "outputs": [
    {
     "name": "stdout",
     "output_type": "stream",
     "text": [
      "              precision    recall  f1-score   support\n",
      "\n",
      "           0       0.77      0.97      0.85       307\n",
      "           1       0.84      0.36      0.51       143\n",
      "\n",
      "    accuracy                           0.78       450\n",
      "   macro avg       0.80      0.67      0.68       450\n",
      "weighted avg       0.79      0.78      0.74       450\n",
      "\n"
     ]
    }
   ],
   "source": [
    "print(classification_report(y_test, y_pred_logreg))"
   ]
  },
  {
   "cell_type": "code",
   "execution_count": 30,
   "id": "03d9fe1b-e603-436f-886e-0557373dd6f7",
   "metadata": {
    "executionCancelledAt": null,
    "executionTime": 49,
    "lastExecutedAt": 1691711790402,
    "lastScheduledRunId": null,
    "lastSuccessfullyExecutedCode": "print(roc_auc_score(y_test, y_pred_probs))",
    "outputsMetadata": {
     "0": {
      "height": 37,
      "type": "stream"
     }
    }
   },
   "outputs": [
    {
     "name": "stdout",
     "output_type": "stream",
     "text": [
      "0.8473611079474271\n"
     ]
    }
   ],
   "source": [
    "print(roc_auc_score(y_test, y_pred_probs))"
   ]
  },
  {
   "cell_type": "markdown",
   "id": "5f18ce5d",
   "metadata": {},
   "source": [
    "Here, our class of interest is attended i.e. the positive class. Since the aim is to predict whether a member(s) will attend the fitness class. From the confusion matrix above, the KNN model produced 60 true positives and 21 false positives, meaning precision is around 74%. The output shows an F1-score of 0.85 for the zero class, which represents individuals who will not attend the fitness class.\n",
    "\n",
    "From the confusion matrix for the Logistic regression model, the model produced 52 true positives and 10 false positives, meaning precision was more than 83%. Here, the model scores 0.85, which is 17% better than the KNN model which is making random guesses. This model shows a better precision compare to the KNN model. Though F1-score for the zero class is the same for both the Logistic regression model and the KNN model, which represents individuals who will not attend the fitness class."
   ]
  },
  {
   "cell_type": "markdown",
   "id": "feb9e1eb-8913-43b8-a280-a369cf10631e",
   "metadata": {},
   "source": [
    "\n",
    "Examining the two model, the logistic regression model performs better than the KNN model, since the logistic regression model has an AUC score of 85%, which is 17% better than the KNN model."
   ]
  }
 ],
 "metadata": {
  "colab": {
   "name": "Welcome to DataCamp Workspaces.ipynb",
   "provenance": []
  },
  "kernelspec": {
   "display_name": "Python 3 (ipykernel)",
   "language": "python",
   "name": "python3"
  },
  "language_info": {
   "codemirror_mode": {
    "name": "ipython",
    "version": 3
   },
   "file_extension": ".py",
   "mimetype": "text/x-python",
   "name": "python",
   "nbconvert_exporter": "python",
   "pygments_lexer": "ipython3",
   "version": "3.9.17"
  }
 },
 "nbformat": 4,
 "nbformat_minor": 5
}
